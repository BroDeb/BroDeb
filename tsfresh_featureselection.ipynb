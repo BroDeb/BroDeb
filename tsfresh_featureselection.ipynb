{
  "nbformat": 4,
  "nbformat_minor": 0,
  "metadata": {
    "colab": {
      "name": "tsfresh featureselection.ipynb",
      "provenance": [],
      "mount_file_id": "12FJ4coS8QhrILs1mWwiMxgU9PEq2PXEv",
      "authorship_tag": "ABX9TyMqxCH45vVkHHqx19LMrhhE",
      "include_colab_link": true
    },
    "kernelspec": {
      "name": "python3",
      "display_name": "Python 3"
    },
    "language_info": {
      "name": "python"
    }
  },
  "cells": [
    {
      "cell_type": "markdown",
      "metadata": {
        "id": "view-in-github",
        "colab_type": "text"
      },
      "source": [
        "<a href=\"https://colab.research.google.com/github/BroDeb/BroDeb/blob/main/tsfresh_featureselection.ipynb\" target=\"_parent\"><img src=\"https://colab.research.google.com/assets/colab-badge.svg\" alt=\"Open In Colab\"/></a>"
      ]
    },
    {
      "cell_type": "code",
      "metadata": {
        "colab": {
          "base_uri": "https://localhost:8080/"
        },
        "id": "SHSIr8eBh5-D",
        "outputId": "eb3b388e-fda3-4ed2-b202-6e43214921a1"
      },
      "source": [
        "\n",
        "import sys\n",
        "#sys.path.insert(1,r'G:\\Shared drives\\Project - ML for Ventricular MAPs\\Python Scripts')\n",
        "\n",
        "\n",
        "import numpy as np\n",
        "import pandas as pd\n",
        "import matplotlib.pyplot as plt\n",
        "import datetime\n",
        "\n",
        "date = datetime.datetime.now()\n",
        "day = str(date.day)\n",
        "month = str(date.month)\n",
        "year = str(date.year)\n",
        "if len(day) <= 1:\n",
        "    day = '0' + day\n",
        "if len(month) <= 1:\n",
        "    month = '0' + month\n",
        "    \n",
        "date = year+month+day\n",
        "\n",
        "\n",
        "'''3sd over/undershoot correction'''\n",
        "file = '/content/drive/Shareddrives/XPublished  - 2021 AJ Mahmood Circ Res ML for Ventricular MAPs/Python Scripts/single_lead1_dict_mean_3SD_cutoff_zNorm_pos0_20191111.npz'\n",
        "'''VTVF Outcome'''\n",
        "excelSheetPath = '/content/drive/Shareddrives/XPublished  - 2021 AJ Mahmood Circ Res ML for Ventricular MAPs/2019 1111 Final_codes_and_data/Step_2_KCrossValidationSplits/VTVF 3 year/2019 1108 VTVF Split.xlsx'\n",
        "output_label = 'VT_VF in 3Y'\n",
        "\n",
        "'''Death Outcome'''\n",
        "excelSheetPath_2 = '/content/drive/Shareddrives/XPublished  - 2021 AJ Mahmood Circ Res ML for Ventricular MAPs/2019 1111 Final_codes_and_data/Step_2_KCrossValidationSplits/Death 3 year/2019 1108 death 3 year split.xlsx'\n",
        "output_label_2 = 'Death in 3Y'\n",
        "\n",
        "\n",
        "\n",
        "#Load preprocessed single MAP data from npz file\n",
        "data = np.load(file, allow_pickle = True)\n",
        "if file.endswith('.npz'):\n",
        "    data = data['arr_0']\n",
        "data = data.item()\n",
        "\n",
        "\n",
        "def getDataFrame(key,value,output):\n",
        "    x = value\n",
        "    x_reshaped = np.reshape(x,(x.shape[0]*x.shape[1],1))\n",
        "    ids = np.reshape(np.asarray([[float(key)*10000 + i]*x.shape[1] for i in range(x.shape[0])]),(x.shape[0]*x.shape[1],1))\n",
        "    time = np.reshape([i for i in range(x.shape[1])]*x.shape[0],(np.prod(x.shape),1))\n",
        "    ids_time = np.append(ids,time,axis = 1)\n",
        "    x = np.append(ids_time,x_reshaped,axis = 1)\n",
        "    x_df = pd.DataFrame(data = x, columns = ['id','time','data points'])#,[str(i) for i in range(x.shape[0]-2)])))\n",
        "    ids = np.asarray([[float(key)*10000 + i] for i in range(value.shape[0])])\n",
        "    y = pd.DataFrame(np.append(ids,np.ones((value.shape[0],1))*output,axis = 1),columns = ['id','outcome'])\n",
        "        \n",
        "    return  x_df, y\n",
        "\n",
        "#Load excel sheet into pandas format\n",
        "long_term_outcome_all = pd.ExcelFile(excelSheetPath) \n",
        "\n",
        "#read each sheet into a pd data frame\n",
        "all_df = pd.DataFrame()\n",
        "all_y = pd.DataFrame()\n",
        "for sheet in ['CV1']:#,'CV2','CV3','CV4','CV5','CV6','CV7','CV8','CV9','CV10']:\n",
        "    print(sheet)\n",
        "    sheet_name = sheet\n",
        "    long_term_outcome = pd.read_excel(long_term_outcome_all, sheet_name = sheet)\n",
        "\n",
        "    \n",
        "    for index, row in long_term_outcome.iterrows():\n",
        "        if True: #index > 0 and index =< 47:\n",
        "            split_num = row['split_num']\n",
        "            output = row[output_label]\n",
        "            patient_name = str(row['patient'])\n",
        "            if patient_name.endswith('_B'):\n",
        "                patient_name = patient_name[:-2] + '.2'\n",
        "            if patient_name != '10027':\n",
        "              x_df,y = getDataFrame(patient_name,data[str(row['patient'])],output)\n",
        "              all_df = all_df.append(x_df)\n",
        "              all_y = all_y.append(y)\n",
        "    \n",
        "all_df.to_csv(date+\"VTVFSingleECGBeatsTsfreshFormat.csv\", index = False)\n",
        "all_y.to_csv(date+\"VTVF3YR_outcome.csv\", index = False)\n",
        "            \n",
        "all_df.to_csv(date+\"DeathSingleECGBeatsTsfreshFormat.csv\", index = False)\n",
        "all_y.to_csv(date+\"Death3YR_outcome.csv\", index = False)"
      ],
      "execution_count": null,
      "outputs": [
        {
          "output_type": "stream",
          "name": "stdout",
          "text": [
            "CV1\n"
          ]
        }
      ]
    },
    {
      "cell_type": "code",
      "metadata": {
        "colab": {
          "base_uri": "https://localhost:8080/"
        },
        "id": "aBKwezDSpd9Y",
        "outputId": "5d9ad4a4-3821-4aea-9883-f33cdce8117f"
      },
      "source": [
        "import datetime \n",
        "import os\n",
        "#!pip install tsfresh\n",
        "\n",
        "date = datetime.datetime.now()\n",
        "day = str(date.day)\n",
        "month = str(date.month)\n",
        "year = str(date.year)\n",
        "if len(day) <= 1:\n",
        "    day = '0' + day\n",
        "if len(month) <= 1:\n",
        "    month = '0' + month\n",
        "    \n",
        "date = year+month+day\n",
        "\n",
        "\n",
        "import pandas as pd\n",
        "root_dir = '/content/drive/Shareddrives/XPublished  - 2021 AJ Mahmood Circ Res ML for Ventricular MAPs/2019 1111 Final_codes_and_data'\n",
        "#import tsfresh formated time series \n",
        "#timeseries_csv_filePath = os.path.join(root_dir,r'/content/20211125DeathSingleECGBeatsTsfreshFormat.csv')\n",
        "timeseries_df = pd.read_csv('/content/drive/Shareddrives/XPublished  - 2021 AJ Mahmood Circ Res ML for Ventricular MAPs/ECG/20211125DeathSingleECGBeatsTsfreshFormat.csv')\n",
        "#timeseries_df = timeseries_df.set_index('id')\n",
        "\n",
        "#import tsfresh formatted y labels \n",
        "#death3yr_y_labels_path = os.path.join(root_dir,r'Step_3_ChooseTsFeatures/Step_3_1_SaveDataIntoTsfreshFormat/20191116Death3YR_outcome.csv')\n",
        "death3yr_y_labels = pd.read_csv('/content/drive/Shareddrives/XPublished  - 2021 AJ Mahmood Circ Res ML for Ventricular MAPs/ECG/20211125Death3YR_outcome.csv')\n",
        "#vtvf3yr_y_labels_path = os.path.join(root_dir,r'Step_3_ChooseTsFeatures/Step_3_1_SaveDataIntoTsfreshFormat/20191116VTVF3YR_outcome.csv')\n",
        "vtvf3yr_y_labels = pd.read_csv('/content/drive/Shareddrives/XPublished  - 2021 AJ Mahmood Circ Res ML for Ventricular MAPs/ECG/20211125VTVF3YR_outcome.csv')\n",
        "\n",
        "#Initial path to save extracted features or\n",
        "extracted_features_path = '/content/drive/Shareddrives/XPublished  - 2021 AJ Mahmood Circ Res ML for Ventricular MAPs/ECG/extractedfeatures.csv'\n",
        "\n",
        "from tsfresh import extract_features\n",
        "try:\n",
        "    extracted_features = pd.read_csv(extracted_features_path, index_col = 'id')\n",
        "except:\n",
        "    extracted_features = extract_features(timeseries_df, column_id='id', column_sort='time')\n",
        "    extracted_features.to_csv(extracted_features_path)\n",
        "\n",
        "\n"
      ],
      "execution_count": null,
      "outputs": [
        {
          "output_type": "stream",
          "name": "stderr",
          "text": [
            "Feature Extraction: 100%|██████████| 5/5 [31:44<00:00, 380.81s/it]\n"
          ]
        }
      ]
    },
    {
      "cell_type": "code",
      "metadata": {
        "id": "RuVXbmjZzS_Q"
      },
      "source": [
        "extracted_features_path = '/content/drive/Shareddrives/XPublished  - 2021 AJ Mahmood Circ Res ML for Ventricular MAPs/ECG/extractedfeatures.csv'\n",
        "extracted_features.to_csv(extracted_features_path)"
      ],
      "execution_count": null,
      "outputs": []
    },
    {
      "cell_type": "code",
      "metadata": {
        "id": "7oYmXCfX45zY"
      },
      "source": [
        "import sys\n",
        "sys.path.insert(1,r'/content/drive/Shareddrives/XPublished  - 2021 AJ Mahmood Circ Res ML for Ventricular MAPs/2019 1111 Final_codes_and_data/Step_3_ChooseTsFeatures/Step_3_2_ExtractTSFreshFeaturesLabel')\n",
        "from drop_corr_features import drop_input_corr_columns\n"
      ],
      "execution_count": null,
      "outputs": []
    },
    {
      "cell_type": "code",
      "metadata": {
        "colab": {
          "base_uri": "https://localhost:8080/"
        },
        "id": "WZL79ge1zN6n",
        "outputId": "ecdb1d30-338e-40c0-da3c-232346de81e2"
      },
      "source": [
        "from tsfresh.utilities.dataframe_functions import impute\n",
        "\n",
        "#replace NAN, -inf, +inf by median, min, max\n",
        "impute(extracted_features)\n",
        "\n",
        "#Sort all extracted features dataframe and Ylabel series based on id so that they are aligned\n",
        "death3yr_y_series = pd.Series(data = death3yr_y_labels['outcome'].values, index=death3yr_y_labels['id'])\n",
        "death3yr_y_series = death3yr_y_series.sort_index(axis = 0)\n",
        "\n",
        "vtvf3yr_y_series = pd.Series(data = vtvf3yr_y_labels['outcome'].values, index=vtvf3yr_y_labels['id'])\n",
        "vtvf3yr_y_series = vtvf3yr_y_series.sort_index(axis = 0)\n",
        "\n",
        "extracted_features = extracted_features.sort_index(axis = 0)\n",
        "#extracted_features = extracted_features.set_index('id')\n",
        "\n",
        "death3yr_y_series.to_csv(r'TsfreshDeath3yr_y_series'+date+'.csv', header = True)\n",
        "vtvf3yr_y_series.to_csv(r'TsfreshVtvf3yr_y_series'+date+'.csv', header = True)\n",
        "extracted_features.to_csv(r'TsfreshExtractedFeaturesBlindedLabelImputed'+date+'.csv', header = True)\n",
        "\n",
        "\n",
        "from tsfresh import select_features\n",
        "\n",
        "for i in range(2):\n",
        "    #use tsfresh labels to choose relevant features \n",
        "    if i == 0:\n",
        "        features_filtered = select_features(extracted_features, vtvf3yr_y_series, ml_task='classification')\n",
        "    elif i == 1:\n",
        "        features_filtered = select_features(extracted_features, death3yr_y_series, ml_task='classification')\n",
        "    \n",
        "    #drop all but one feature with correlation 0.9 or more\n",
        "    from drop_corr_features import drop_input_corr_columns\n",
        "    features_filtered_no_colnr, to_drop = drop_input_corr_columns(features_filtered, corr_fac = 0.9)\n",
        "    \n",
        "    #drop any columns with with nan values\n",
        "    features_filtered_no_colnr = features_filtered_no_colnr.dropna(axis='columns')\n",
        "    \n",
        "    #Apply z-norm to all features column-wise\n",
        "    features_mean = features_filtered_no_colnr.mean()\n",
        "    features_std = features_filtered_no_colnr.std()\n",
        "    features_filtered_no_colnr_norm=((features_filtered_no_colnr-features_mean)/features_std)\n",
        "    \n",
        "    if i == 0:\n",
        "        features_filtered_no_colnr_norm.to_csv(r'ECGTsfreshExtractedFeaturesVtvf3YRLabel'+date+'.csv')\n",
        "    elif i == 1:\n",
        "        features_filtered_no_colnr_norm.to_csv(r'ECGTsfreshExtractedFeaturesDeath3YRLabel'+date+'.csv')\n"
      ],
      "execution_count": null,
      "outputs": [
        {
          "output_type": "stream",
          "name": "stderr",
          "text": [
            "/usr/local/lib/python3.7/dist-packages/tsfresh/utilities/dataframe_functions.py:172: RuntimeWarning: The columns ['data points__query_similarity_count__query_None__threshold_0.0'] did not have any finite values. Filling with zeros.\n",
            "  df.iloc[:, np.where(is_col_non_finite)[0]].columns.values), RuntimeWarning)\n"
          ]
        }
      ]
    },
    {
      "cell_type": "code",
      "metadata": {
        "colab": {
          "base_uri": "https://localhost:8080/"
        },
        "id": "yL9AhWbv40js",
        "outputId": "fef4120a-9d1d-4761-abb1-8246ce27242f"
      },
      "source": [
        "print(set(data.keys()))"
      ],
      "execution_count": null,
      "outputs": [
        {
          "output_type": "stream",
          "name": "stdout",
          "text": [
            "{'10007', '10030', '10028', '10001', '10032_B', '10062', '10048_B', '10063', '10055', '10026', '10065', '10053', '10051', '10050_B', '10037', '10064', '10049', '10006', '10061', '10020', '10068', '10044', '10039', '10035', '10032', '10023', '10001_B', '10040', '10024', '10054', '10033', '10016', '10015', '10042', '10003', '10034', '10069', '10052', '10075', '10038', '10072', '10045', '10048', '10028_B', '10019', '10050'}\n"
          ]
        }
      ]
    }
  ]
}